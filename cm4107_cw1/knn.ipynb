{
 "cells": [
  {
   "cell_type": "markdown",
   "metadata": {},
   "source": [
    "# CM4107 Advanced Artificial Intelligence\n",
    "## Coursework Part 1 - kNN\n",
    "## Alistair Quinn 1701183"
   ]
  },
  {
   "cell_type": "markdown",
   "metadata": {},
   "source": [
    "### Imports"
   ]
  },
  {
   "cell_type": "code",
   "execution_count": 130,
   "metadata": {},
   "outputs": [],
   "source": [
    "%matplotlib inline\n",
    "import numpy as np\n",
    "import scipy.special \n",
    "import matplotlib.pyplot as plt\n",
    "import pandas as pd\n",
    "import random\n",
    "import operator"
   ]
  },
  {
   "cell_type": "markdown",
   "metadata": {},
   "source": [
    "### Load Train and Test Datasets "
   ]
  },
  {
   "cell_type": "code",
   "execution_count": 131,
   "metadata": {},
   "outputs": [],
   "source": [
    "datasets = {'wine':{},'breast_cancer':{}}\n",
    "#Dataset 1: Wine\n",
    "datasets['wine']['train'] = pd.read_csv('datasets/wine/wine_train.csv')\n",
    "datasets['wine']['train_x'] = datasets['wine']['train'].iloc[:,1:12]\n",
    "datasets['wine']['train_y'] = datasets['wine']['train'].iloc[:,0:1]\n",
    "datasets['wine']['test'] = pd.read_csv('datasets/wine/wine_test.csv')\n",
    "datasets['wine']['test_x'] = datasets['wine']['test'].iloc[:,1:12]\n",
    "datasets['wine']['test_y'] = datasets['wine']['test'].iloc[:,0:1]\n",
    "#Dataset 2: Breast Cancer \n",
    "datasets['breast_cancer']['train'] = pd.read_csv('datasets/breast_cancer/breast_cancer_train.csv')\n",
    "datasets['breast_cancer']['train_x'] = datasets['breast_cancer']['train'].iloc[:,1:33]\n",
    "datasets['breast_cancer']['train_y'] = datasets['breast_cancer']['train'].iloc[:,0:1]\n",
    "datasets['breast_cancer']['test'] = pd.read_csv('datasets/breast_cancer/breast_cancer_test.csv')\n",
    "datasets['breast_cancer']['test_x'] = datasets['breast_cancer']['test'].iloc[:,1:33]\n",
    "datasets['breast_cancer']['test_y'] = datasets['breast_cancer']['test'].iloc[:,0:1]"
   ]
  },
  {
   "cell_type": "markdown",
   "metadata": {},
   "source": [
    "### Simulatiry Functions \n",
    "#### From Lab 4"
   ]
  },
  {
   "cell_type": "code",
   "execution_count": 132,
   "metadata": {},
   "outputs": [],
   "source": [
    "#Within our class we now need code for each of the components of k-NN.\n",
    "#First, lets create a method that will measure the distance between two vectors.\n",
    "def euclidean(instance1, instance2):\n",
    "        '''\n",
    "        Calculates euclidean distance between two instances of data\n",
    "        instance1 will be a List of Float values\n",
    "        instance2 will be a List of Float values\n",
    "        length will be an Integer denoting the length of the Lists\n",
    "        '''\n",
    "        distance = 0\n",
    "        for val1, val2 in zip(instance1, instance2):            \n",
    "            distance += pow((val1 - val2), 2)\n",
    "        \n",
    "        distance = pow(distance, 1/2)\n",
    "             \n",
    "              \n",
    "        return 1 / (1+ distance)\n",
    "    \n",
    "\n",
    "def manhattan(instance1, instance2):\n",
    "        '''\n",
    "        Calculates manhattan distance between two instances of data\n",
    "        instance1 will be a List of Float values\n",
    "        instance2 will be a List of Float values\n",
    "        length will be an Integer denoting the length of the Lists\n",
    "        '''\n",
    "        distance = 0\n",
    "        for val1, val2 in zip(instance1, instance2):\n",
    "            distance += abs(val1 - val2)      \n",
    "              \n",
    "        return 1 / (1+ distance)\n",
    "    \n",
    "def dot_product(instance1, instance2):\n",
    "        '''\n",
    "        Calculates dot product between two instances \n",
    "        instance1 will be a List of Float values\n",
    "        instance2 will be a List of Float values\n",
    "        length will be an Integer denoting the length of the Lists\n",
    "        '''\n",
    "        return np.dot(instance1, instance2)\n",
    "\n",
    "#https://masongallo.github.io/machine/learning,/python/2016/07/29/cosine-similarity.html\n",
    "def cosine(instance1, instance2):\n",
    "    dot_prod = dot_product(instance1,instance2)\n",
    "    norm_1= np.linalg.norm(instance1)\n",
    "    norm_2= np.linalg.norm(instance2)\n",
    "    return dot_prod / (norm_1 * norm_2)"
   ]
  },
  {
   "cell_type": "markdown",
   "metadata": {},
   "source": [
    "### kNN Class\n",
    "#### From Lab 4"
   ]
  },
  {
   "cell_type": "code",
   "execution_count": 133,
   "metadata": {},
   "outputs": [],
   "source": [
    "class kNN:\n",
    "    \"\"\"\n",
    "    Parameters\n",
    "    X_train, Y_train : list\n",
    "    these consists of the training set feature values and associated class labels\n",
    "    k : int\n",
    "    specify the number of neighbours\n",
    "    sim : literal\n",
    "    specify the name of the similarity metric (e.g. manhattan, eucliedean)\n",
    "    weighted : Boolean\n",
    "    specify the voting strategy as weighted or not weighted by similarity values\n",
    "  \n",
    "    Attributes\n",
    "    -----------  \n",
    "    Results : list\n",
    "      Target and predicted class labels for the test data.    \n",
    "    \"\"\"\n",
    "\n",
    "\n",
    "    def __init__(self, X_train, Y_train, k=3, sim=manhattan, weighted=False):\n",
    "        self.X_train = X_train\n",
    "        self.Y_train = Y_train\n",
    "        \n",
    "        if k <= len(self.X_train):\n",
    "            self.k = k # set the k value for neighbourhood size\n",
    "        else:\n",
    "            self.k = len(self.X_train) # to ensure the get_neighbours dont crash\n",
    "    \n",
    "        self.similarity = sim # specify a sim metric that has been pre-defined e.g. manhattan or euclidean\n",
    "        \n",
    "        self.weighted = weighted # boolean to choose between weighted / unweighted majority voting\n",
    "        \n",
    "        #store results from testing \n",
    "        self.results= []\n",
    "        \n",
    "    #With k-NN, we are interested in finding the k number of points with the greatest similarity \n",
    "    # to the the query or test instance.\n",
    "    def get_neighbours(self, test_instance):\n",
    "        '''\n",
    "        Locate most similar neighbours \n",
    "        X_train will be a containing features (Float) values (i.e. your training data)\n",
    "        Y_train will be the corresponding class labels for each instance in X_train\n",
    "        test_instance will be a List of Float values (i.e. a query instance)\n",
    "        '''\n",
    "        similarities = [] # collection to store the similarities to be computed\n",
    "\n",
    "        for train_instance, y in zip(self.X_train, self.Y_train): #for each member of the training set\n",
    "            sim = self.similarity(test_instance, train_instance) #calculate the similarity to the test instance\n",
    "            \n",
    "            similarities.append((y, sim)) #add the actual label of the example and the computed similarity to a collection \n",
    "        #print(distances)\n",
    "        similarities.sort(key = operator.itemgetter(1), reverse = True) #sort the collection by decreasing similarity\n",
    "        neighbours = [] # holds the k most similar neighbours\n",
    "        for x in range(self.k): #extract the k top indices of the collection for return\n",
    "            neighbours.append(similarities[x])\n",
    "\n",
    "        return neighbours\n",
    "\n",
    "    # given the neighbours make a prediction\n",
    "    # the boolean parameter when set to False will use unweighted majority voting; otherwise weighted majority voting\n",
    "    # weighting can be helpful to break any ties in voting\n",
    "    def predict(self, neighbours):\n",
    "        '''\n",
    "        Summarise a prediction based upon weighted neighbours calculation\n",
    "        '''\n",
    "        class_votes = {}\n",
    "        for x in range(len(neighbours)):\n",
    "            response = neighbours[x][0]\n",
    "            #Quick Check So I don't have to mess around changing loaded datasets\n",
    "            if(not isinstance(response,int)):\n",
    "                response = response[0]\n",
    "            if response in class_votes:\n",
    "                class_votes[response] += (1-self.weighted) + (self.weighted * neighbours[x][1]) #if not weighted simply add 1\n",
    "                #class_votes[response] += [1, neighbours[x][1]][weighted == True] \n",
    "              \n",
    "            else:\n",
    "                class_votes[response] = (1-self.weighted) + (self.weighted * neighbours[x][1])\n",
    "                #class_votes[response] = [1, neighbours[x][1]][weighted == True] \n",
    "                \n",
    "        #print(class_votes)\n",
    "        sorted_votes = sorted(class_votes, key = lambda k: (class_votes[k], k), reverse = True)\n",
    "        #print(sorted_votes)\n",
    "        return sorted_votes[0]\n",
    "    \n",
    "    #iterate through all the test data to calculate accuracy\n",
    "    def test(self, X_test, Y_test):\n",
    "        self.results = [] # store the predictions returned by kNN\n",
    "\n",
    "        for test_instance, target_label in zip(X_test, Y_test):\n",
    "            neighbours = self.get_neighbours(test_instance)\n",
    "            predict_label = self.predict(neighbours)\n",
    "            self.results.append([predict_label, target_label])\n",
    "            #print('> predicted = ', result,', actual = ', test_label)\n",
    "    "
   ]
  },
  {
   "cell_type": "markdown",
   "metadata": {},
   "source": [
    "### Util Functions "
   ]
  },
  {
   "cell_type": "code",
   "execution_count": 134,
   "metadata": {},
   "outputs": [],
   "source": [
    "#Finally, we can test to see how many of the test instances we got correct\n",
    "def accuracy(results):\n",
    "    correct = 0\n",
    "    for predict, target in results:\n",
    "\n",
    "        if predict == target:\n",
    "            correct += 1\n",
    "    return (correct/float(len(results))) * 100.0"
   ]
  },
  {
   "cell_type": "markdown",
   "metadata": {},
   "source": [
    "### Evaluation of Weighted and Unweighted Models with Different K"
   ]
  },
  {
   "cell_type": "code",
   "execution_count": 135,
   "metadata": {},
   "outputs": [
    {
     "data": {
      "image/png": "[encoded data removed]",
      "text/plain": [
       "<Figure size 432x288 with 1 Axes>"
      ]
     },
     "metadata": {},
     "output_type": "display_data"
    },
    {
     "name": "stdout",
     "output_type": "stream",
     "text": [
      "None\n"
     ]
    },
    {
     "data": {
      "image/png": "[encoded data removed]",
      "text/plain": [
       "<Figure size 432x288 with 1 Axes>"
      ]
     },
     "metadata": {},
     "output_type": "display_data"
    },
    {
     "name": "stdout",
     "output_type": "stream",
     "text": [
      "None\n"
     ]
    }
   ],
   "source": [
    "#Weighted \n",
    "is_weighted = [False, True]\n",
    "#Set k test values\n",
    "k_values = [10,20,30,40,50]\n",
    "#Array to hold models\n",
    "all_knns = []\n",
    "all_knn_results = []\n",
    "#Testing\n",
    "for index,dataset in datasets.items():\n",
    "    knns = []\n",
    "    #Train and Test\n",
    "    for weight in is_weighted:\n",
    "        weight_knns = []\n",
    "        for k in k_values:\n",
    "            knn = kNN(dataset['train_x'].values,dataset['train_y'].values,k,weighted=weight)\n",
    "            knn.test(dataset['test_x'].values,dataset['test_y'].values)\n",
    "            weight_knns.append(knn)\n",
    "        knns.append(weight_knns)\n",
    "    #Get Results \n",
    "    knn_results = []\n",
    "    knn_results_element = []\n",
    "    for weight_knns in knns:\n",
    "        knn_results_element = []\n",
    "        for knn in weight_knns:\n",
    "            knn_results_element.append(accuracy(knn.results))\n",
    "        knn_results.append(knn_results_element)\n",
    "    #Graph \n",
    "    N = len(k_values)\n",
    "    ind = np.arange(N)\n",
    "    performance1 = knn_results[0]\n",
    "    performance2 = knn_results[1]\n",
    "    plt.bar(ind, performance1,0.35, label='Unweighted')\n",
    "    plt.bar(ind + 0.35,performance2,0.35,label='Weighted')\n",
    "    plt.ylabel('Accuracy')\n",
    "    plt.xlabel('k')\n",
    "    plt.title('kNN Performance with Increasing K - ' + index)\n",
    "    plt.xticks(ind + 0.35 / 2, k_values)\n",
    "    plt.legend(loc='lower right')\n",
    "    print(plt.show())\n",
    "    all_knns.append(knns)\n",
    "    all_knn_results.append(knn_results)"
   ]
  },
  {
   "cell_type": "code",
   "execution_count": 136,
   "metadata": {},
   "outputs": [
    {
     "name": "stdout",
     "output_type": "stream",
     "text": [
      "[55.04287464271131, 54.87954267047775, 54.87954267047775, 55.28787260106166, 55.124540628828086]\n",
      "[94.38596491228071, 94.38596491228071, 94.38596491228071, 93.6842105263158, 94.03508771929825]\n"
     ]
    }
   ],
   "source": [
    "#Unweighted\n",
    "#Wine\n",
    "print(all_knn_results[0][0])\n",
    "#Breast Cancer\n",
    "print(all_knn_results[1][0])"
   ]
  },
  {
   "cell_type": "markdown",
   "metadata": {},
   "source": [
    "Top array is unweighted, bottom is weighted. Weighted has a definite accuracy increase. But accuracy seems to dip as k increase, larger range of k might need to be tested but for now k=20 (or 30) is the most accuracy "
   ]
  },
  {
   "cell_type": "code",
   "execution_count": 137,
   "metadata": {},
   "outputs": [
    {
     "name": "stdout",
     "output_type": "stream",
     "text": [
      "[60.22866476112699, 58.391180073499385, 58.71784401796651, 58.75867701102491, 57.94201714985709]\n",
      "[94.38596491228071, 94.38596491228071, 94.38596491228071, 93.6842105263158, 94.03508771929825]\n"
     ]
    }
   ],
   "source": [
    "#Weighted\n",
    "#Wine\n",
    "print(all_knn_results[0][1])\n",
    "#Breast Cancer\n",
    "print(all_knn_results[1][1])"
   ]
  },
  {
   "cell_type": "markdown",
   "metadata": {},
   "source": [
    "Top array is unweighted, bottom is weighted. Weighted has a definite accuracy much larger gap than for wine dataset. K doesn't have that much affect on the accuracy of weighted but seems to slightly decrease accuracy as k increases. K=10 (or 20,30) produces the most accurate model "
   ]
  }
 ],
 "metadata": {
  "kernelspec": {
   "display_name": "Python 3",
   "language": "python",
   "name": "python3"
  },
  "language_info": {
   "codemirror_mode": {
    "name": "ipython",
    "version": 3
   },
   "file_extension": ".py",
   "mimetype": "text/x-python",
   "name": "python",
   "nbconvert_exporter": "python",
   "pygments_lexer": "ipython3",
   "version": "3.6.5"
  }
 },
 "nbformat": 4,
 "nbformat_minor": 2
}

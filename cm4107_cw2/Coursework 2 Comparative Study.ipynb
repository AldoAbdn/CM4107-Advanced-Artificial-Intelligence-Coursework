{
 "cells": [
  {
   "cell_type": "markdown",
   "metadata": {},
   "source": [
    "# CM4107 Advanced Artificial Intelligence \n",
    "## Coursework 2: Comparative Study\n",
    "Comparative study of MLP, kNN and SVM from Scikit Learn Python library. Text Classification of two datasets, IMDB Movie Review and Spam Text Messages. "
   ]
  },
  {
   "cell_type": "markdown",
   "metadata": {},
   "source": [
    "## Setup "
   ]
  },
  {
   "cell_type": "markdown",
   "metadata": {},
   "source": [
    "### Imports"
   ]
  },
  {
   "cell_type": "code",
   "execution_count": 199,
   "metadata": {},
   "outputs": [],
   "source": [
    "import numpy as np\n",
    "import pandas as pd\n",
    "\n",
    "#for nlp\n",
    "import nltk\n",
    "from nltk.corpus import stopwords \n",
    "from nltk.stem.snowball import SnowballStemmer\n",
    "from nltk.corpus import stopwords\n",
    "\n",
    "#text vectorisation\n",
    "from sklearn.feature_extraction.text import CountVectorizer, TfidfTransformer, TfidfVectorizer\n",
    "\n",
    "#metrics\n",
    "from sklearn.metrics import classification_report, accuracy_score\n",
    "\n",
    "#import method releated to evaluation\n",
    "from sklearn import model_selection\n",
    "from sklearn.pipeline import make_pipeline\n",
    "from sklearn.pipeline import Pipeline\n",
    "from sklearn.model_selection import train_test_split, cross_val_score, GridSearchCV\n",
    "\n",
    "#classifiers\n",
    "from sklearn.linear_model import LogisticRegression\n",
    "from sklearn.naive_bayes import MultinomialNB\n",
    "\n",
    "#Regular Expressions \n",
    "import re\n",
    "\n",
    "#Models\n",
    "from sklearn.neural_network import MLPClassifier\n",
    "from sklearn.neighbors import KNeighborsClassifier\n",
    "from sklearn.svm import SVC\n",
    "\n",
    "#for graphs\n",
    "%matplotlib inline\n",
    "import matplotlib.pyplot as plt\n",
    "import seaborn as sns"
   ]
  },
  {
   "cell_type": "markdown",
   "metadata": {},
   "source": [
    "### Data Exploration Functions "
   ]
  },
  {
   "cell_type": "code",
   "execution_count": 200,
   "metadata": {},
   "outputs": [],
   "source": [
    "def DataExploration(dataset):\n",
    "    print(dataset['data'].head())\n",
    "    print(dataset['data'].columns.values)\n",
    "    print(dataset['data'].shape)"
   ]
  },
  {
   "cell_type": "markdown",
   "metadata": {},
   "source": [
    "### Pre-Processing Functions"
   ]
  },
  {
   "cell_type": "code",
   "execution_count": 201,
   "metadata": {},
   "outputs": [],
   "source": [
    "#Regular Expressions to Clean Up the Text \n",
    "def preprocessor(text):\n",
    "    text = re.sub('<[^>]*>', '', text) # remove all html markup\n",
    "    emoticons = re.findall('(?::|;|=)(?:-)?(?:\\)|\\(|D|P)', text) # findall the emoticons\n",
    "    \n",
    "    # remove the non-word chars '[\\W]+'\n",
    "    # append the emoticons to end \n",
    "    #convert all to lowercase\n",
    "    # remove nose char for consistency\n",
    "    text = (re.sub('[\\W]+', ' ', text.lower()) +\n",
    "            ' '.join(emoticons).replace('-', '')) \n",
    "    return text\n",
    "\n",
    "def tokenizer(text):\n",
    "       return text.split()\n",
    "\n",
    "def tokenizer_stemmer(text):\n",
    "    return [stemmer.stem(word) for word in tokenizer(text)]#text.split()]\n",
    "\n",
    "def stop_removal(text):\n",
    "       return [w for w in text if not w in stop]\n",
    "    \n",
    "def tokenizer_stemmer_stop_removal(text):\n",
    "    return [w for w in tokenizer_stemmer(text) if w.lower() not in stop]\n",
    "\n"
   ]
  },
  {
   "cell_type": "markdown",
   "metadata": {},
   "source": [
    "### Grid Search Cross Validation Functions "
   ]
  },
  {
   "cell_type": "code",
   "execution_count": 202,
   "metadata": {},
   "outputs": [],
   "source": [
    "def GridSearchCrossValidation(model_name, model, dataset_name, dataset):\n",
    "    #Pipeline\n",
    "    pipeline = make_pipeline(TfidfVectorizer(strip_accents=None,\n",
    "                    lowercase=False,\n",
    "                    min_df=7,\n",
    "                    preprocessor=None),model)\n",
    "    #Grid Search with Cross Validation \n",
    "    gs_tfidf = GridSearchCV(pipeline, {**param_grids['tfidf'],**param_grids[model_name]},\n",
    "                       scoring='accuracy',\n",
    "                       cv=3,\n",
    "                       verbose=1,\n",
    "                       n_jobs=1)\n",
    "    #Set Variable \n",
    "    dataset[model_name+\"_gs_tfidf\"] = gs_tfidf.fit(dataset['text_train'],dataset['Y_train']) \n",
    "    #Show testing accuracies \n",
    "    print(dataset_name + \" \" + model_name + \" Best Score: \" + str(dataset[model_name+\"_gs_tfidf\"].best_score_))\n",
    "    print(dataset_name + \" \" + model_name + \" Best Params: \" + str(dataset[model_name+\"_gs_tfidf\"].best_params_))"
   ]
  },
  {
   "cell_type": "markdown",
   "metadata": {},
   "source": [
    "### Testing Functions "
   ]
  },
  {
   "cell_type": "code",
   "execution_count": 203,
   "metadata": {},
   "outputs": [],
   "source": [
    "def BestEstimatorScore(dataset,model_name):\n",
    "    dataset[model_name+\"_best_estimator_score\"] = dataset[model_name+\"_gs_tfidf\"].best_estimator_.score(dataset['text_test'],dataset['Y_test'])\n",
    "    print(dataset_name + \" \" + model_name + \": \" + str(dataset[model_name+\"_best_estimator_score\"]))\n",
    "\n",
    "def ClassificationReport(dataset,model_name):\n",
    "    dataset[model_name+\"_best_estimator_predictions\"] = dataset[model_name+\"_gs_tfidf\"].best_estimator_.predict(dataset['text_test'])\n",
    "    print(classification_report(dataset['Y_test'],dataset[model_name+\"_best_estimator_predictions\"]))"
   ]
  },
  {
   "cell_type": "markdown",
   "metadata": {},
   "source": [
    "### Visualisation Functions "
   ]
  },
  {
   "cell_type": "code",
   "execution_count": 204,
   "metadata": {},
   "outputs": [],
   "source": [
    "def BarGraph(labels, dataset, dataset_name, y_pos, y_label):\n",
    "    results = []\n",
    "    for model_name in labels:\n",
    "        results.append(dataset[model_name+\"_best_estimator_score\"])\n",
    "    plt.bar(y_pos,results,align=\"center\",alpha=0.5)\n",
    "    plt.xticks(y_pos, labels)\n",
    "    plt.ylabel(y_label)\n",
    "    plt.title(dataset_name + \" Best Estimator Scores\")"
   ]
  },
  {
   "cell_type": "markdown",
   "metadata": {},
   "source": [
    "### Variables "
   ]
  },
  {
   "cell_type": "code",
   "execution_count": 205,
   "metadata": {},
   "outputs": [],
   "source": [
    "#Datasets \n",
    "datasets = {}\n",
    "datasets['IMDB'] = {'data':None,'X':None,'Y':None,'text_train':None,'text_test':None,'Y_train':None,'Y_test':None}\n",
    "datasets['spam'] = {'data':None,'X':None,'Y':None,'text_train':None,'text_test':None,'Y_train':None,'Y_test':None}\n",
    "#File names\n",
    "datasets['IMDB']['filename'] = 'datasets/movie_data_cat.csv'\n",
    "datasets['spam']['filename'] = 'datasets/SMSSpamData.csv'\n",
    "#Text Pre Processing\n",
    "stop = set(stopwords.words('english'))\n",
    "stemmer = SnowballStemmer(\"english\")\n",
    "#Models\n",
    "models = {}\n",
    "models['MLP'] = MLPClassifier()\n",
    "models['KNN'] = KNeighborsClassifier()\n",
    "models['SVM'] = SVC(kernel='rbf', gamma=0.7, C=1.0)\n",
    "#Grid Search Cross Validation Setup\n",
    "#GridSearchCV Params\n",
    "param_grids = {}\n",
    "param_grids['tfidf'] = {'tfidfvectorizer__ngram_range': [(1, 1),(1,2),(1,3)], #can also extract 2-grams of words in addition to the 1-grams (individual words)\n",
    "               'tfidfvectorizer__max_features': [1000, 4000], # use the stop dictionary of stopwords or not\n",
    "               'tfidfvectorizer__tokenizer': [tokenizer_stemmer_stop_removal]}\n",
    "param_grids['MLP'] = {'mlpclassifier__hidden_layer_sizes':[(10,),(20,),(30,),(40,),(50,)],\n",
    "                     'mlpclassifier__learning_rate_init':[0.2,0.4,0.6,0.8,1.0]}\n",
    "param_grids['KNN'] = {'kneighborsclassifier__weights':['uniform','distance'],\n",
    "                     'kneighborsclassifier__n_neighbors':[2,5,10,15,20]}\n",
    "param_grids['SVM'] = {'svc__C':[0.001,0.01,0.1,1,10],\n",
    "                     'svc__gamma': [0.001,0.01,0.1,1],}"
   ]
  },
  {
   "cell_type": "markdown",
   "metadata": {},
   "source": [
    "### Load Datasets "
   ]
  },
  {
   "cell_type": "markdown",
   "metadata": {},
   "source": [
    "#### Dataset 1: IMDB Movie Reviews"
   ]
  },
  {
   "cell_type": "code",
   "execution_count": 206,
   "metadata": {},
   "outputs": [],
   "source": [
    "#IMDB\n",
    "datasets['IMDB']['data'] = pd.read_csv(datasets['IMDB']['filename'])\n",
    "#IMDB dataset is very large, to save time taking first 10,000 entries\n",
    "### smaller sample\n",
    "datasets['IMDB']['data'] = datasets['IMDB']['data'].loc[:10000,]"
   ]
  },
  {
   "cell_type": "markdown",
   "metadata": {},
   "source": [
    "#### Dataset 2: Spam Text Messages "
   ]
  },
  {
   "cell_type": "code",
   "execution_count": 207,
   "metadata": {},
   "outputs": [],
   "source": [
    "#spam\n",
    "datasets['spam']['data'] = pd.read_csv(datasets['spam']['filename'])"
   ]
  },
  {
   "cell_type": "markdown",
   "metadata": {},
   "source": [
    "### Data Exploration "
   ]
  },
  {
   "cell_type": "markdown",
   "metadata": {},
   "source": [
    "#### Dataset 1: IMDB Movie Reviews"
   ]
  },
  {
   "cell_type": "code",
   "execution_count": 208,
   "metadata": {},
   "outputs": [
    {
     "name": "stdout",
     "output_type": "stream",
     "text": [
      "                                              review sentiment\n",
      "0  In 1974, the teenager Martha Moxley (Maggie Gr...       pos\n",
      "1  OK... so... I really like Kris Kristofferson a...       neg\n",
      "2  ***SPOILER*** Do not read this, if you think a...       neg\n",
      "3  hi for all the people who have seen this wonde...       pos\n",
      "4  I recently bought the DVD, forgetting just how...       neg\n",
      "['review' 'sentiment']\n",
      "(10001, 2)\n"
     ]
    }
   ],
   "source": [
    "DataExploration(datasets['IMDB'])"
   ]
  },
  {
   "cell_type": "markdown",
   "metadata": {},
   "source": [
    "#### Dataset 2: Spam Text Messages "
   ]
  },
  {
   "cell_type": "code",
   "execution_count": 209,
   "metadata": {},
   "outputs": [
    {
     "name": "stdout",
     "output_type": "stream",
     "text": [
      "  class                                            sms_msg\n",
      "0   ham  Go until jurong point, crazy.. Available only ...\n",
      "1   ham                      Ok lar... Joking wif u oni...\n",
      "2  spam  Free entry in 2 a wkly comp to win FA Cup fina...\n",
      "3   ham  U dun say so early hor... U c already then say...\n",
      "4   ham  Nah I don't think he goes to usf, he lives aro...\n",
      "['class' 'sms_msg']\n",
      "(5574, 2)\n"
     ]
    }
   ],
   "source": [
    "DataExploration(datasets['spam'])"
   ]
  },
  {
   "cell_type": "markdown",
   "metadata": {},
   "source": [
    "### Pre-Processing "
   ]
  },
  {
   "cell_type": "markdown",
   "metadata": {},
   "source": [
    "#### Dataset 1: IMDB Movie Reviews"
   ]
  },
  {
   "cell_type": "code",
   "execution_count": 210,
   "metadata": {},
   "outputs": [],
   "source": [
    "#Column Names\n",
    "datasets['IMDB']['text_col_name'] = 'review'\n",
    "datasets['IMDB']['class_col_name'] = 'sentiment'\n",
    "#Class labels\n",
    "datasets['IMDB']['data']['sentiment'] = datasets['IMDB']['data']['sentiment'].map({label:idx for idx,label in enumerate(np.unique(datasets['IMDB']['data']['sentiment']))})\n",
    "#Regular Expression filter \n",
    "datasets['IMDB']['data']['review'] = datasets['IMDB']['data']['review'].apply(preprocessor)\n",
    "#Split into X and Y\n",
    "datasets['IMDB']['X'] = datasets['IMDB']['data'].loc[:, 'review'].values\n",
    "datasets['IMDB']['Y'] = datasets['IMDB']['data'].loc[:, 'sentiment'].values \n",
    "#Split into Train and Test \n",
    "datasets['IMDB']['text_train'],datasets['IMDB']['text_test'],datasets['IMDB']['Y_train'],datasets['IMDB']['Y_test'] = train_test_split(datasets['IMDB']['X'],\n",
    "                                         datasets['IMDB']['Y'],\n",
    "                                         random_state=42,\n",
    "                                         test_size=0.25,\n",
    "                                         stratify=datasets['IMDB']['Y'])"
   ]
  },
  {
   "cell_type": "markdown",
   "metadata": {},
   "source": [
    "#### Dataset 2: Spam Text Messages "
   ]
  },
  {
   "cell_type": "code",
   "execution_count": 211,
   "metadata": {},
   "outputs": [],
   "source": [
    "#Column Names\n",
    "datasets['spam']['text_col_name'] = 'sms_msg'\n",
    "datasets['spam']['class_col_name'] = 'class'\n",
    "#Class labels\n",
    "datasets['spam']['data']['class'] = datasets['spam']['data']['class'].map({label:idx for idx,label in enumerate(np.unique(datasets['spam']['data']['class']))})\n",
    "#Regular Expression filter \n",
    "datasets['spam']['data']['sms_msg'] = datasets['spam']['data']['sms_msg'].apply(preprocessor)\n",
    "#Split into X and Y\n",
    "datasets['spam']['X'] = datasets['spam']['data'].loc[:, 'sms_msg'].values\n",
    "datasets['spam']['Y'] = datasets['spam']['data'].loc[:, 'class'].values\n",
    "#Split into Train and Test \n",
    "datasets['spam']['text_train'],datasets['spam']['text_test'],datasets['spam']['Y_train'],datasets['spam']['Y_test'] = train_test_split(datasets['spam']['X'],\n",
    "                                         datasets['spam']['Y'],\n",
    "                                         random_state=42,\n",
    "                                         test_size=0.25,\n",
    "                                         stratify=datasets['spam']['Y'])"
   ]
  },
  {
   "cell_type": "markdown",
   "metadata": {},
   "source": [
    "## Training"
   ]
  },
  {
   "cell_type": "markdown",
   "metadata": {},
   "source": [
    "### Grid Search Cross Validation for Each Model "
   ]
  },
  {
   "cell_type": "markdown",
   "metadata": {},
   "source": [
    "Grid search with cross validation to find the best parameter combinations for each model on each dataset. Pipeline that consists of a TfidfVectorizer and then one of the three models. TfidVectorizer combines CountVectorizer and TfidTransformer. CountVectorizer converts text rows into a matrix of token counts.TfidTransformer transforms a count matrix to a normalised term-frequency times inverse document-frequency representation."
   ]
  },
  {
   "cell_type": "markdown",
   "metadata": {},
   "source": [
    "#### Dataset 1: IMDB Movie Reviews"
   ]
  },
  {
   "cell_type": "markdown",
   "metadata": {},
   "source": [
    "##### MLP"
   ]
  },
  {
   "cell_type": "code",
   "execution_count": 212,
   "metadata": {},
   "outputs": [
    {
     "name": "stdout",
     "output_type": "stream",
     "text": [
      "Fitting 3 folds for each of 150 candidates, totalling 450 fits\n"
     ]
    },
    {
     "name": "stderr",
     "output_type": "stream",
     "text": [
      "[Parallel(n_jobs=1)]: Done 450 out of 450 | elapsed: 248.2min finished\n"
     ]
    },
    {
     "name": "stdout",
     "output_type": "stream",
     "text": [
      "IMDB Movie Reviews MLP Best Score: 0.8330666666666666\n",
      "IMDB Movie Reviews MLP Best Params: {'mlpclassifier__hidden_layer_sizes': (40,), 'mlpclassifier__learning_rate_init': 0.6, 'tfidfvectorizer__max_features': 4000, 'tfidfvectorizer__ngram_range': (1, 3), 'tfidfvectorizer__tokenizer': <function tokenizer_stemmer_stop_removal at 0x0000027684412C80>}\n"
     ]
    }
   ],
   "source": [
    "GridSearchCrossValidation(\"MLP\", models['MLP'], \"IMDB Movie Reviews\", datasets['IMDB'])"
   ]
  },
  {
   "cell_type": "markdown",
   "metadata": {},
   "source": [
    "##### kNN"
   ]
  },
  {
   "cell_type": "code",
   "execution_count": 214,
   "metadata": {},
   "outputs": [
    {
     "name": "stdout",
     "output_type": "stream",
     "text": [
      "Fitting 3 folds for each of 60 candidates, totalling 180 fits\n"
     ]
    },
    {
     "name": "stderr",
     "output_type": "stream",
     "text": [
      "[Parallel(n_jobs=1)]: Done 180 out of 180 | elapsed: 101.6min finished\n"
     ]
    },
    {
     "name": "stdout",
     "output_type": "stream",
     "text": [
      "IMDB Movie Reviews KNN Best Score: 0.7685333333333333\n",
      "IMDB Movie Reviews KNN Best Params: {'kneighborsclassifier__n_neighbors': 20, 'kneighborsclassifier__weights': 'distance', 'tfidfvectorizer__max_features': 4000, 'tfidfvectorizer__ngram_range': (1, 2), 'tfidfvectorizer__tokenizer': <function tokenizer_stemmer_stop_removal at 0x0000027684412C80>}\n"
     ]
    }
   ],
   "source": [
    "GridSearchCrossValidation(\"KNN\", models['KNN'], \"IMDB Movie Reviews\", datasets['IMDB'])"
   ]
  },
  {
   "cell_type": "markdown",
   "metadata": {},
   "source": [
    "##### SVM"
   ]
  },
  {
   "cell_type": "code",
   "execution_count": 215,
   "metadata": {},
   "outputs": [
    {
     "name": "stdout",
     "output_type": "stream",
     "text": [
      "Fitting 3 folds for each of 120 candidates, totalling 360 fits\n"
     ]
    },
    {
     "name": "stderr",
     "output_type": "stream",
     "text": [
      "[Parallel(n_jobs=1)]: Done 360 out of 360 | elapsed: 408.2min finished\n"
     ]
    },
    {
     "name": "stdout",
     "output_type": "stream",
     "text": [
      "IMDB Movie Reviews SVM Best Score: 0.8633333333333333\n",
      "IMDB Movie Reviews SVM Best Params: {'svc__C': 1, 'svc__gamma': 1, 'tfidfvectorizer__max_features': 4000, 'tfidfvectorizer__ngram_range': (1, 2), 'tfidfvectorizer__tokenizer': <function tokenizer_stemmer_stop_removal at 0x0000027684412C80>}\n"
     ]
    }
   ],
   "source": [
    "GridSearchCrossValidation(\"SVM\", models['SVM'], \"IMDB Movie Reviews\", datasets['IMDB'])"
   ]
  },
  {
   "cell_type": "markdown",
   "metadata": {},
   "source": [
    "#### Dataset 2: Spam Text Messages "
   ]
  },
  {
   "cell_type": "markdown",
   "metadata": {},
   "source": [
    "##### MLP"
   ]
  },
  {
   "cell_type": "code",
   "execution_count": 216,
   "metadata": {},
   "outputs": [
    {
     "name": "stdout",
     "output_type": "stream",
     "text": [
      "Fitting 3 folds for each of 150 candidates, totalling 450 fits\n"
     ]
    },
    {
     "name": "stderr",
     "output_type": "stream",
     "text": [
      "[Parallel(n_jobs=1)]: Done 450 out of 450 | elapsed: 11.0min finished\n"
     ]
    },
    {
     "name": "stdout",
     "output_type": "stream",
     "text": [
      "Spam Text Messages MLP Best Score: 0.980622009569378\n",
      "Spam Text Messages MLP Best Params: {'mlpclassifier__hidden_layer_sizes': (30,), 'mlpclassifier__learning_rate_init': 0.2, 'tfidfvectorizer__max_features': 1000, 'tfidfvectorizer__ngram_range': (1, 3), 'tfidfvectorizer__tokenizer': <function tokenizer_stemmer_stop_removal at 0x0000027684412C80>}\n"
     ]
    }
   ],
   "source": [
    "GridSearchCrossValidation(\"MLP\", models['MLP'], \"Spam Text Messages\", datasets['spam'])"
   ]
  },
  {
   "cell_type": "markdown",
   "metadata": {},
   "source": [
    "##### kNN"
   ]
  },
  {
   "cell_type": "code",
   "execution_count": 217,
   "metadata": {},
   "outputs": [
    {
     "name": "stdout",
     "output_type": "stream",
     "text": [
      "Fitting 3 folds for each of 60 candidates, totalling 180 fits\n"
     ]
    },
    {
     "name": "stderr",
     "output_type": "stream",
     "text": [
      "[Parallel(n_jobs=1)]: Done 180 out of 180 | elapsed:  4.1min finished\n"
     ]
    },
    {
     "name": "stdout",
     "output_type": "stream",
     "text": [
      "Spam Text Messages KNN Best Score: 0.9471291866028708\n",
      "Spam Text Messages KNN Best Params: {'kneighborsclassifier__n_neighbors': 2, 'kneighborsclassifier__weights': 'distance', 'tfidfvectorizer__max_features': 1000, 'tfidfvectorizer__ngram_range': (1, 1), 'tfidfvectorizer__tokenizer': <function tokenizer_stemmer_stop_removal at 0x0000027684412C80>}\n"
     ]
    }
   ],
   "source": [
    "GridSearchCrossValidation(\"KNN\", models['KNN'], \"Spam Text Messages\", datasets['spam'])"
   ]
  },
  {
   "cell_type": "markdown",
   "metadata": {},
   "source": [
    "##### SVM"
   ]
  },
  {
   "cell_type": "code",
   "execution_count": 218,
   "metadata": {},
   "outputs": [
    {
     "name": "stdout",
     "output_type": "stream",
     "text": [
      "Fitting 3 folds for each of 120 candidates, totalling 360 fits\n"
     ]
    },
    {
     "name": "stderr",
     "output_type": "stream",
     "text": [
      "[Parallel(n_jobs=1)]: Done 360 out of 360 | elapsed:  9.2min finished\n"
     ]
    },
    {
     "name": "stdout",
     "output_type": "stream",
     "text": [
      "Spam Text Messages SVM Best Score: 0.9834928229665072\n",
      "Spam Text Messages SVM Best Params: {'svc__C': 10, 'svc__gamma': 0.1, 'tfidfvectorizer__max_features': 1000, 'tfidfvectorizer__ngram_range': (1, 1), 'tfidfvectorizer__tokenizer': <function tokenizer_stemmer_stop_removal at 0x0000027684412C80>}\n"
     ]
    }
   ],
   "source": [
    "GridSearchCrossValidation(\"SVM\", models['SVM'], \"Spam Text Messages\", datasets['spam'])"
   ]
  },
  {
   "cell_type": "markdown",
   "metadata": {},
   "source": [
    "## Testing "
   ]
  },
  {
   "cell_type": "markdown",
   "metadata": {},
   "source": [
    "### Best Estimator Scores"
   ]
  },
  {
   "cell_type": "markdown",
   "metadata": {},
   "source": [
    "Mean accuracy on given test data and labels "
   ]
  },
  {
   "cell_type": "markdown",
   "metadata": {},
   "source": [
    "#### Dataset 1: IMDB Movie Reviews"
   ]
  },
  {
   "cell_type": "markdown",
   "metadata": {},
   "source": [
    "##### MLP"
   ]
  },
  {
   "cell_type": "code",
   "execution_count": 219,
   "metadata": {},
   "outputs": [
    {
     "name": "stdout",
     "output_type": "stream",
     "text": [
      "IMDB MLP: 0.8532586965213914\n"
     ]
    }
   ],
   "source": [
    "BestEstimatorScore(datasets['IMDB'],\"MLP\")"
   ]
  },
  {
   "cell_type": "markdown",
   "metadata": {},
   "source": [
    "##### kNN"
   ]
  },
  {
   "cell_type": "code",
   "execution_count": 220,
   "metadata": {},
   "outputs": [
    {
     "name": "stdout",
     "output_type": "stream",
     "text": [
      "IMDB KNN: 0.781687325069972\n"
     ]
    }
   ],
   "source": [
    "BestEstimatorScore(datasets['IMDB'],\"KNN\")"
   ]
  },
  {
   "cell_type": "markdown",
   "metadata": {},
   "source": [
    "##### SVM"
   ]
  },
  {
   "cell_type": "code",
   "execution_count": 221,
   "metadata": {},
   "outputs": [
    {
     "name": "stdout",
     "output_type": "stream",
     "text": [
      "IMDB SVM: 0.8836465413834467\n"
     ]
    }
   ],
   "source": [
    "BestEstimatorScore(datasets['IMDB'],\"SVM\")"
   ]
  },
  {
   "cell_type": "markdown",
   "metadata": {},
   "source": [
    "#### Dataset 2: Spam Text Messages "
   ]
  },
  {
   "cell_type": "markdown",
   "metadata": {},
   "source": [
    "##### MLP"
   ]
  },
  {
   "cell_type": "code",
   "execution_count": 222,
   "metadata": {},
   "outputs": [
    {
     "name": "stdout",
     "output_type": "stream",
     "text": [
      "IMDB MLP: 0.9770444763271162\n"
     ]
    }
   ],
   "source": [
    "BestEstimatorScore(datasets['spam'],\"MLP\")"
   ]
  },
  {
   "cell_type": "markdown",
   "metadata": {},
   "source": [
    "##### kNN"
   ]
  },
  {
   "cell_type": "code",
   "execution_count": 223,
   "metadata": {},
   "outputs": [
    {
     "name": "stdout",
     "output_type": "stream",
     "text": [
      "IMDB KNN: 0.9626972740315638\n"
     ]
    }
   ],
   "source": [
    "BestEstimatorScore(datasets['spam'],\"KNN\")"
   ]
  },
  {
   "cell_type": "markdown",
   "metadata": {},
   "source": [
    "##### SVM"
   ]
  },
  {
   "cell_type": "code",
   "execution_count": 224,
   "metadata": {},
   "outputs": [
    {
     "name": "stdout",
     "output_type": "stream",
     "text": [
      "IMDB SVM: 0.9921090387374462\n"
     ]
    }
   ],
   "source": [
    "BestEstimatorScore(datasets['spam'],\"SVM\")"
   ]
  },
  {
   "cell_type": "markdown",
   "metadata": {},
   "source": [
    "### Classification Reports"
   ]
  },
  {
   "cell_type": "markdown",
   "metadata": {},
   "source": [
    "Report of main classification metrics "
   ]
  },
  {
   "cell_type": "markdown",
   "metadata": {},
   "source": [
    "#### Dataset 1: IMDB Movie Reviews"
   ]
  },
  {
   "cell_type": "markdown",
   "metadata": {},
   "source": [
    "##### MLP"
   ]
  },
  {
   "cell_type": "code",
   "execution_count": 225,
   "metadata": {},
   "outputs": [
    {
     "name": "stdout",
     "output_type": "stream",
     "text": [
      "             precision    recall  f1-score   support\n",
      "\n",
      "          0       0.85      0.85      0.85      1259\n",
      "          1       0.85      0.85      0.85      1242\n",
      "\n",
      "avg / total       0.85      0.85      0.85      2501\n",
      "\n"
     ]
    }
   ],
   "source": [
    "ClassificationReport(datasets['IMDB'],\"MLP\")"
   ]
  },
  {
   "cell_type": "markdown",
   "metadata": {},
   "source": [
    "##### kNN"
   ]
  },
  {
   "cell_type": "code",
   "execution_count": 226,
   "metadata": {},
   "outputs": [
    {
     "name": "stdout",
     "output_type": "stream",
     "text": [
      "             precision    recall  f1-score   support\n",
      "\n",
      "          0       0.80      0.76      0.78      1259\n",
      "          1       0.77      0.80      0.79      1242\n",
      "\n",
      "avg / total       0.78      0.78      0.78      2501\n",
      "\n"
     ]
    }
   ],
   "source": [
    "ClassificationReport(datasets['IMDB'],\"KNN\")"
   ]
  },
  {
   "cell_type": "markdown",
   "metadata": {},
   "source": [
    "##### SVM"
   ]
  },
  {
   "cell_type": "code",
   "execution_count": 227,
   "metadata": {},
   "outputs": [
    {
     "name": "stdout",
     "output_type": "stream",
     "text": [
      "             precision    recall  f1-score   support\n",
      "\n",
      "          0       0.90      0.87      0.88      1259\n",
      "          1       0.87      0.90      0.89      1242\n",
      "\n",
      "avg / total       0.88      0.88      0.88      2501\n",
      "\n"
     ]
    }
   ],
   "source": [
    "ClassificationReport(datasets['IMDB'],\"SVM\")"
   ]
  },
  {
   "cell_type": "markdown",
   "metadata": {},
   "source": [
    "#### Dataset 2: Spam Text Messages "
   ]
  },
  {
   "cell_type": "markdown",
   "metadata": {},
   "source": [
    "##### MLP"
   ]
  },
  {
   "cell_type": "code",
   "execution_count": 228,
   "metadata": {},
   "outputs": [
    {
     "name": "stdout",
     "output_type": "stream",
     "text": [
      "             precision    recall  f1-score   support\n",
      "\n",
      "          0       0.99      0.99      0.99      1207\n",
      "          1       0.92      0.91      0.91       187\n",
      "\n",
      "avg / total       0.98      0.98      0.98      1394\n",
      "\n"
     ]
    }
   ],
   "source": [
    "ClassificationReport(datasets['spam'],\"MLP\")"
   ]
  },
  {
   "cell_type": "markdown",
   "metadata": {},
   "source": [
    "##### kNN"
   ]
  },
  {
   "cell_type": "code",
   "execution_count": 229,
   "metadata": {},
   "outputs": [
    {
     "name": "stdout",
     "output_type": "stream",
     "text": [
      "             precision    recall  f1-score   support\n",
      "\n",
      "          0       0.96      1.00      0.98      1207\n",
      "          1       0.99      0.73      0.84       187\n",
      "\n",
      "avg / total       0.96      0.96      0.96      1394\n",
      "\n"
     ]
    }
   ],
   "source": [
    "ClassificationReport(datasets['spam'],\"KNN\")"
   ]
  },
  {
   "cell_type": "markdown",
   "metadata": {},
   "source": [
    "##### SVM"
   ]
  },
  {
   "cell_type": "code",
   "execution_count": 230,
   "metadata": {},
   "outputs": [
    {
     "name": "stdout",
     "output_type": "stream",
     "text": [
      "             precision    recall  f1-score   support\n",
      "\n",
      "          0       0.99      1.00      1.00      1207\n",
      "          1       1.00      0.94      0.97       187\n",
      "\n",
      "avg / total       0.99      0.99      0.99      1394\n",
      "\n"
     ]
    }
   ],
   "source": [
    "ClassificationReport(datasets['spam'],\"SVM\")"
   ]
  },
  {
   "cell_type": "markdown",
   "metadata": {},
   "source": [
    "## Visualisations "
   ]
  },
  {
   "cell_type": "markdown",
   "metadata": {},
   "source": [
    "Bar graphs to visually compare the accuracies of the best estimators for each pipeline. "
   ]
  },
  {
   "cell_type": "markdown",
   "metadata": {},
   "source": [
    "### Setup"
   ]
  },
  {
   "cell_type": "code",
   "execution_count": 232,
   "metadata": {},
   "outputs": [],
   "source": [
    "#Graph Labels \n",
    "labels = [\"MLP\", \"KNN\", \"SVM\"]\n",
    "y_pos = np.arange(len(labels))\n",
    "y_label = \"Mean Accuracy\""
   ]
  },
  {
   "cell_type": "markdown",
   "metadata": {},
   "source": [
    "### Bar Graphs"
   ]
  },
  {
   "cell_type": "markdown",
   "metadata": {},
   "source": [
    "#### Dataset 1: IMDB Movie Reviews"
   ]
  },
  {
   "cell_type": "code",
   "execution_count": 233,
   "metadata": {},
   "outputs": [
    {
     "data": {
      "image/png": "[encoded data removed]",
      "text/plain": [
       "<Figure size 432x288 with 1 Axes>"
      ]
     },
     "metadata": {},
     "output_type": "display_data"
    }
   ],
   "source": [
    "BarGraph(labels, datasets['IMDB'], \"IMDB Movie Reviews\", y_pos, y_label)"
   ]
  },
  {
   "cell_type": "markdown",
   "metadata": {},
   "source": [
    "#### Dataset 2: Spam Text Messages "
   ]
  },
  {
   "cell_type": "code",
   "execution_count": 234,
   "metadata": {},
   "outputs": [
    {
     "data": {
      "image/png": "[encoded data removed]",
      "text/plain": [
       "<Figure size 432x288 with 1 Axes>"
      ]
     },
     "metadata": {},
     "output_type": "display_data"
    }
   ],
   "source": [
    "BarGraph(labels, datasets['spam'], \"Spam Text Messages\", y_pos, y_label)"
   ]
  }
 ],
 "metadata": {
  "kernelspec": {
   "display_name": "Python 3",
   "language": "python",
   "name": "python3"
  },
  "language_info": {
   "codemirror_mode": {
    "name": "ipython",
    "version": 3
   },
   "file_extension": ".py",
   "mimetype": "text/x-python",
   "name": "python",
   "nbconvert_exporter": "python",
   "pygments_lexer": "ipython3",
   "version": "3.6.5"
  }
 },
 "nbformat": 4,
 "nbformat_minor": 2
}
